{
 "cells": [
  {
   "cell_type": "markdown",
   "id": "1c3a6aea-bba7-4a4b-9f00-a57c9b2bcd0c",
   "metadata": {},
   "source": [
    "# I-Phone Mobile EDA Project_Using_KNN"
   ]
  },
  {
   "cell_type": "markdown",
   "id": "84537476-e184-4e84-9cbb-93698133d190",
   "metadata": {},
   "source": [
    "# I-Phone Mobile EDA Project_Using_KNN"
   ]
  },
  {
   "cell_type": "code",
   "execution_count": 5,
   "id": "371f6be7-f656-41fb-b5d5-e2f242272733",
   "metadata": {},
   "outputs": [],
   "source": [
    "# Firstly We Have to IMPORT the Libraries -\n",
    "import pandas as pd\n",
    "import seaborn as sns\n",
    "import matplotlib.pyplot as plt\n",
    "from sklearn.linear_model import LinearRegression"
   ]
  },
  {
   "cell_type": "code",
   "execution_count": 6,
   "id": "8c56704d-02aa-424f-b5c9-51f9b5356d85",
   "metadata": {},
   "outputs": [
    {
     "name": "stdout",
     "output_type": "stream",
     "text": [
      "   Gender  Age  Salary  Purchase Iphone\n",
      "0    Male   19   19000                0\n",
      "1    Male   35   20000                0\n",
      "2  Female   26   43000                0\n",
      "3  Female   27   57000                0\n",
      "4    Male   19   76000                0\n"
     ]
    }
   ],
   "source": [
    "# Importing the Data from our system - \n",
    "data = pd.read_csv('D:/Top Mentor/Classes Details/4th May/Files/KNN_Project_5&6/KNN Assignment/iphone_purchase_records.csv')\n",
    "print(data.head())"
   ]
  },
  {
   "cell_type": "code",
   "execution_count": 7,
   "id": "2aca3ae6-c127-4ff7-872d-cd62251d5525",
   "metadata": {},
   "outputs": [
    {
     "name": "stdout",
     "output_type": "stream",
     "text": [
      "  Gender  Age  Salary  Purchase Iphone\n",
      "0   Male   19   19000                0\n",
      "1   Male   35   20000                0\n"
     ]
    }
   ],
   "source": [
    "## Firstly We have to copy this data as our data keep safe - \n",
    "df = data.copy()\n",
    "print(df.head(2))"
   ]
  },
  {
   "cell_type": "code",
   "execution_count": 8,
   "id": "2e6e0ff8-c25c-4a8b-9fd6-6fd7678717c7",
   "metadata": {},
   "outputs": [
    {
     "name": "stdout",
     "output_type": "stream",
     "text": [
      "DataSet Information -\n",
      "               Age         Salary  Purchase Iphone\n",
      "count  400.000000     400.000000       400.000000\n",
      "mean    37.655000   69742.500000         0.357500\n",
      "std     10.482877   34096.960282         0.479864\n",
      "min     18.000000   15000.000000         0.000000\n",
      "25%     29.750000   43000.000000         0.000000\n",
      "50%     37.000000   70000.000000         0.000000\n",
      "75%     46.000000   88000.000000         1.000000\n",
      "max     60.000000  150000.000000         1.000000\n"
     ]
    }
   ],
   "source": [
    "## Reading data & Checking basic features of data - \n",
    "print('DataSet Information -\\n',df.describe())"
   ]
  },
  {
   "cell_type": "code",
   "execution_count": 9,
   "id": "3574e953-e2df-4db8-978f-a96eb93163bb",
   "metadata": {},
   "outputs": [
    {
     "name": "stdout",
     "output_type": "stream",
     "text": [
      "<class 'pandas.core.frame.DataFrame'>\n",
      "RangeIndex: 400 entries, 0 to 399\n",
      "Data columns (total 4 columns):\n",
      " #   Column           Non-Null Count  Dtype \n",
      "---  ------           --------------  ----- \n",
      " 0   Gender           400 non-null    object\n",
      " 1   Age              400 non-null    int64 \n",
      " 2   Salary           400 non-null    int64 \n",
      " 3   Purchase Iphone  400 non-null    int64 \n",
      "dtypes: int64(3), object(1)\n",
      "memory usage: 12.6+ KB\n"
     ]
    },
    {
     "data": {
      "text/plain": [
       "Gender             0\n",
       "Age                0\n",
       "Salary             0\n",
       "Purchase Iphone    0\n",
       "dtype: int64"
      ]
     },
     "execution_count": 9,
     "metadata": {},
     "output_type": "execute_result"
    }
   ],
   "source": [
    "#  Checking Data Information \n",
    "df.info()\n",
    "# Checking Null Value -\n",
    "df.isnull().sum()"
   ]
  },
  {
   "cell_type": "code",
   "execution_count": 10,
   "id": "bf2e28af-36f5-4b90-bce2-7b90b4c81f25",
   "metadata": {},
   "outputs": [
    {
     "name": "stdout",
     "output_type": "stream",
     "text": [
      "no of columns -  Index(['Gender', 'Age', 'Salary', 'Purchase Iphone'], dtype='object')\n",
      "no of shapes -  (400, 4)\n",
      "no of lenght -  400\n"
     ]
    }
   ],
   "source": [
    "##Checking Data Parameter :-\n",
    "print('no of columns - ' , df.columns)\n",
    "print('no of shapes - ' , df.shape)\n",
    "print('no of lenght - ' , len(df))"
   ]
  },
  {
   "cell_type": "code",
   "execution_count": 11,
   "id": "d8f21ec9-ad2e-447c-a40c-d85a258a92e1",
   "metadata": {},
   "outputs": [],
   "source": [
    "## The dataset contains 400 entries and 4 columns:\n",
    "\n",
    "# Gender: Categorical feature indicating the gender of the individual.\n",
    "# Age: Numeric feature representing the age of the individual.\n",
    "# Salary: Numeric feature representing the salary of the individual.\n",
    "# Purchase Iphone: Target variable, where 0 indicates no purchase, and 1 indicates a purchase."
   ]
  },
  {
   "cell_type": "code",
   "execution_count": 12,
   "id": "7940e44d-94df-4121-97f6-ac523792c230",
   "metadata": {},
   "outputs": [],
   "source": [
    "### Now we are encoding the gender column as Male = 1 & Female = 0"
   ]
  },
  {
   "cell_type": "code",
   "execution_count": 13,
   "id": "63de219f-2566-4361-9376-9d4e7c95e2c5",
   "metadata": {},
   "outputs": [],
   "source": [
    "from sklearn.preprocessing import LabelEncoder\n",
    "label_encoder = LabelEncoder()"
   ]
  },
  {
   "cell_type": "code",
   "execution_count": 14,
   "id": "1d9724e9-4eb4-46c7-9325-fad67a8423a8",
   "metadata": {},
   "outputs": [
    {
     "name": "stdout",
     "output_type": "stream",
     "text": [
      "Index(['Gender', 'Age', 'Salary', 'Purchase Iphone'], dtype='object')\n"
     ]
    }
   ],
   "source": [
    "print(df.columns)"
   ]
  },
  {
   "cell_type": "code",
   "execution_count": 15,
   "id": "86b4674a-cca7-4a37-8c4c-6ba2b0a94a5f",
   "metadata": {},
   "outputs": [],
   "source": [
    "df['Gender'] = label_encoder.fit_transform(df['Gender'])"
   ]
  },
  {
   "cell_type": "code",
   "execution_count": 16,
   "id": "39f39b4c-e854-4adf-b21e-21e031f0830a",
   "metadata": {},
   "outputs": [
    {
     "data": {
      "text/html": [
       "<div>\n",
       "<style scoped>\n",
       "    .dataframe tbody tr th:only-of-type {\n",
       "        vertical-align: middle;\n",
       "    }\n",
       "\n",
       "    .dataframe tbody tr th {\n",
       "        vertical-align: top;\n",
       "    }\n",
       "\n",
       "    .dataframe thead th {\n",
       "        text-align: right;\n",
       "    }\n",
       "</style>\n",
       "<table border=\"1\" class=\"dataframe\">\n",
       "  <thead>\n",
       "    <tr style=\"text-align: right;\">\n",
       "      <th></th>\n",
       "      <th>Gender</th>\n",
       "      <th>Age</th>\n",
       "      <th>Salary</th>\n",
       "      <th>Purchase Iphone</th>\n",
       "    </tr>\n",
       "  </thead>\n",
       "  <tbody>\n",
       "    <tr>\n",
       "      <th>0</th>\n",
       "      <td>1</td>\n",
       "      <td>19</td>\n",
       "      <td>19000</td>\n",
       "      <td>0</td>\n",
       "    </tr>\n",
       "    <tr>\n",
       "      <th>1</th>\n",
       "      <td>1</td>\n",
       "      <td>35</td>\n",
       "      <td>20000</td>\n",
       "      <td>0</td>\n",
       "    </tr>\n",
       "    <tr>\n",
       "      <th>2</th>\n",
       "      <td>0</td>\n",
       "      <td>26</td>\n",
       "      <td>43000</td>\n",
       "      <td>0</td>\n",
       "    </tr>\n",
       "    <tr>\n",
       "      <th>3</th>\n",
       "      <td>0</td>\n",
       "      <td>27</td>\n",
       "      <td>57000</td>\n",
       "      <td>0</td>\n",
       "    </tr>\n",
       "    <tr>\n",
       "      <th>4</th>\n",
       "      <td>1</td>\n",
       "      <td>19</td>\n",
       "      <td>76000</td>\n",
       "      <td>0</td>\n",
       "    </tr>\n",
       "  </tbody>\n",
       "</table>\n",
       "</div>"
      ],
      "text/plain": [
       "   Gender  Age  Salary  Purchase Iphone\n",
       "0       1   19   19000                0\n",
       "1       1   35   20000                0\n",
       "2       0   26   43000                0\n",
       "3       0   27   57000                0\n",
       "4       1   19   76000                0"
      ]
     },
     "execution_count": 16,
     "metadata": {},
     "output_type": "execute_result"
    }
   ],
   "source": [
    "df.head()"
   ]
  },
  {
   "cell_type": "code",
   "execution_count": 17,
   "id": "c2265716-7c8f-48b4-af20-e49689ee28a6",
   "metadata": {},
   "outputs": [
    {
     "name": "stdout",
     "output_type": "stream",
     "text": [
      "[1 0]\n"
     ]
    }
   ],
   "source": [
    "print(df['Gender'].unique())"
   ]
  },
  {
   "cell_type": "code",
   "execution_count": 18,
   "id": "209ce2e2-1569-43e0-b9b1-dcc96ba7af51",
   "metadata": {},
   "outputs": [],
   "source": [
    "## Now we starting the training & Testing for data - y-(  0 No  - 1-Yes)\n",
    "X = df[['Gender','Age','Salary']]\n",
    "y =df['Purchase Iphone'] "
   ]
  },
  {
   "cell_type": "code",
   "execution_count": 19,
   "id": "de6d28ba-954b-43bf-b0d9-9a2f1f1a5ea7",
   "metadata": {},
   "outputs": [
    {
     "data": {
      "text/html": [
       "<div>\n",
       "<style scoped>\n",
       "    .dataframe tbody tr th:only-of-type {\n",
       "        vertical-align: middle;\n",
       "    }\n",
       "\n",
       "    .dataframe tbody tr th {\n",
       "        vertical-align: top;\n",
       "    }\n",
       "\n",
       "    .dataframe thead th {\n",
       "        text-align: right;\n",
       "    }\n",
       "</style>\n",
       "<table border=\"1\" class=\"dataframe\">\n",
       "  <thead>\n",
       "    <tr style=\"text-align: right;\">\n",
       "      <th></th>\n",
       "      <th>Gender</th>\n",
       "      <th>Age</th>\n",
       "      <th>Salary</th>\n",
       "    </tr>\n",
       "  </thead>\n",
       "  <tbody>\n",
       "    <tr>\n",
       "      <th>0</th>\n",
       "      <td>1</td>\n",
       "      <td>19</td>\n",
       "      <td>19000</td>\n",
       "    </tr>\n",
       "    <tr>\n",
       "      <th>1</th>\n",
       "      <td>1</td>\n",
       "      <td>35</td>\n",
       "      <td>20000</td>\n",
       "    </tr>\n",
       "    <tr>\n",
       "      <th>2</th>\n",
       "      <td>0</td>\n",
       "      <td>26</td>\n",
       "      <td>43000</td>\n",
       "    </tr>\n",
       "    <tr>\n",
       "      <th>3</th>\n",
       "      <td>0</td>\n",
       "      <td>27</td>\n",
       "      <td>57000</td>\n",
       "    </tr>\n",
       "    <tr>\n",
       "      <th>4</th>\n",
       "      <td>1</td>\n",
       "      <td>19</td>\n",
       "      <td>76000</td>\n",
       "    </tr>\n",
       "  </tbody>\n",
       "</table>\n",
       "</div>"
      ],
      "text/plain": [
       "   Gender  Age  Salary\n",
       "0       1   19   19000\n",
       "1       1   35   20000\n",
       "2       0   26   43000\n",
       "3       0   27   57000\n",
       "4       1   19   76000"
      ]
     },
     "execution_count": 19,
     "metadata": {},
     "output_type": "execute_result"
    }
   ],
   "source": [
    "X.head()"
   ]
  },
  {
   "cell_type": "code",
   "execution_count": 20,
   "id": "f371aafe-c761-4ef0-8f55-d4a11759f339",
   "metadata": {},
   "outputs": [
    {
     "data": {
      "text/plain": [
       "0    0\n",
       "1    0\n",
       "2    0\n",
       "3    0\n",
       "4    0\n",
       "Name: Purchase Iphone, dtype: int64"
      ]
     },
     "execution_count": 20,
     "metadata": {},
     "output_type": "execute_result"
    }
   ],
   "source": [
    "y.head()"
   ]
  },
  {
   "cell_type": "code",
   "execution_count": 21,
   "id": "592b1697-b9d3-448c-9ed4-68f09c593eca",
   "metadata": {},
   "outputs": [],
   "source": [
    "from sklearn.model_selection import train_test_split"
   ]
  },
  {
   "cell_type": "code",
   "execution_count": 22,
   "id": "54a060ad-f6a7-4f8a-80a3-9e8406b64bb4",
   "metadata": {},
   "outputs": [],
   "source": [
    "X_train , X_test , y_train ,y_test =train_test_split(X,y,test_size=0.2 ,random_state=42)"
   ]
  },
  {
   "cell_type": "code",
   "execution_count": 23,
   "id": "bd2d9f0d-44e2-43ad-aef9-270759953ed6",
   "metadata": {},
   "outputs": [
    {
     "data": {
      "text/plain": [
       "((320, 3), (320,))"
      ]
     },
     "execution_count": 23,
     "metadata": {},
     "output_type": "execute_result"
    }
   ],
   "source": [
    "X_train.shape , y_train.shape"
   ]
  },
  {
   "cell_type": "code",
   "execution_count": 24,
   "id": "f2c408d1-dc27-469e-880f-be4728a8ce79",
   "metadata": {},
   "outputs": [
    {
     "data": {
      "text/plain": [
       "((80, 3), (80,))"
      ]
     },
     "execution_count": 24,
     "metadata": {},
     "output_type": "execute_result"
    }
   ],
   "source": [
    "X_test.shape , y_test.shape"
   ]
  },
  {
   "cell_type": "code",
   "execution_count": 25,
   "id": "aafb6bae-4773-45b5-b31a-3eb7fc785bfe",
   "metadata": {},
   "outputs": [],
   "source": [
    "from sklearn.neighbors import KNeighborsRegressor"
   ]
  },
  {
   "cell_type": "code",
   "execution_count": 26,
   "id": "488a54c2-41ea-4d13-99ca-4a800182bb21",
   "metadata": {},
   "outputs": [
    {
     "data": {
      "text/html": [
       "<style>#sk-container-id-1 {color: black;background-color: white;}#sk-container-id-1 pre{padding: 0;}#sk-container-id-1 div.sk-toggleable {background-color: white;}#sk-container-id-1 label.sk-toggleable__label {cursor: pointer;display: block;width: 100%;margin-bottom: 0;padding: 0.3em;box-sizing: border-box;text-align: center;}#sk-container-id-1 label.sk-toggleable__label-arrow:before {content: \"▸\";float: left;margin-right: 0.25em;color: #696969;}#sk-container-id-1 label.sk-toggleable__label-arrow:hover:before {color: black;}#sk-container-id-1 div.sk-estimator:hover label.sk-toggleable__label-arrow:before {color: black;}#sk-container-id-1 div.sk-toggleable__content {max-height: 0;max-width: 0;overflow: hidden;text-align: left;background-color: #f0f8ff;}#sk-container-id-1 div.sk-toggleable__content pre {margin: 0.2em;color: black;border-radius: 0.25em;background-color: #f0f8ff;}#sk-container-id-1 input.sk-toggleable__control:checked~div.sk-toggleable__content {max-height: 200px;max-width: 100%;overflow: auto;}#sk-container-id-1 input.sk-toggleable__control:checked~label.sk-toggleable__label-arrow:before {content: \"▾\";}#sk-container-id-1 div.sk-estimator input.sk-toggleable__control:checked~label.sk-toggleable__label {background-color: #d4ebff;}#sk-container-id-1 div.sk-label input.sk-toggleable__control:checked~label.sk-toggleable__label {background-color: #d4ebff;}#sk-container-id-1 input.sk-hidden--visually {border: 0;clip: rect(1px 1px 1px 1px);clip: rect(1px, 1px, 1px, 1px);height: 1px;margin: -1px;overflow: hidden;padding: 0;position: absolute;width: 1px;}#sk-container-id-1 div.sk-estimator {font-family: monospace;background-color: #f0f8ff;border: 1px dotted black;border-radius: 0.25em;box-sizing: border-box;margin-bottom: 0.5em;}#sk-container-id-1 div.sk-estimator:hover {background-color: #d4ebff;}#sk-container-id-1 div.sk-parallel-item::after {content: \"\";width: 100%;border-bottom: 1px solid gray;flex-grow: 1;}#sk-container-id-1 div.sk-label:hover label.sk-toggleable__label {background-color: #d4ebff;}#sk-container-id-1 div.sk-serial::before {content: \"\";position: absolute;border-left: 1px solid gray;box-sizing: border-box;top: 0;bottom: 0;left: 50%;z-index: 0;}#sk-container-id-1 div.sk-serial {display: flex;flex-direction: column;align-items: center;background-color: white;padding-right: 0.2em;padding-left: 0.2em;position: relative;}#sk-container-id-1 div.sk-item {position: relative;z-index: 1;}#sk-container-id-1 div.sk-parallel {display: flex;align-items: stretch;justify-content: center;background-color: white;position: relative;}#sk-container-id-1 div.sk-item::before, #sk-container-id-1 div.sk-parallel-item::before {content: \"\";position: absolute;border-left: 1px solid gray;box-sizing: border-box;top: 0;bottom: 0;left: 50%;z-index: -1;}#sk-container-id-1 div.sk-parallel-item {display: flex;flex-direction: column;z-index: 1;position: relative;background-color: white;}#sk-container-id-1 div.sk-parallel-item:first-child::after {align-self: flex-end;width: 50%;}#sk-container-id-1 div.sk-parallel-item:last-child::after {align-self: flex-start;width: 50%;}#sk-container-id-1 div.sk-parallel-item:only-child::after {width: 0;}#sk-container-id-1 div.sk-dashed-wrapped {border: 1px dashed gray;margin: 0 0.4em 0.5em 0.4em;box-sizing: border-box;padding-bottom: 0.4em;background-color: white;}#sk-container-id-1 div.sk-label label {font-family: monospace;font-weight: bold;display: inline-block;line-height: 1.2em;}#sk-container-id-1 div.sk-label-container {text-align: center;}#sk-container-id-1 div.sk-container {/* jupyter's `normalize.less` sets `[hidden] { display: none; }` but bootstrap.min.css set `[hidden] { display: none !important; }` so we also need the `!important` here to be able to override the default hidden behavior on the sphinx rendered scikit-learn.org. See: https://github.com/scikit-learn/scikit-learn/issues/21755 */display: inline-block !important;position: relative;}#sk-container-id-1 div.sk-text-repr-fallback {display: none;}</style><div id=\"sk-container-id-1\" class=\"sk-top-container\"><div class=\"sk-text-repr-fallback\"><pre>KNeighborsRegressor(n_neighbors=1)</pre><b>In a Jupyter environment, please rerun this cell to show the HTML representation or trust the notebook. <br />On GitHub, the HTML representation is unable to render, please try loading this page with nbviewer.org.</b></div><div class=\"sk-container\" hidden><div class=\"sk-item\"><div class=\"sk-estimator sk-toggleable\"><input class=\"sk-toggleable__control sk-hidden--visually\" id=\"sk-estimator-id-1\" type=\"checkbox\" checked><label for=\"sk-estimator-id-1\" class=\"sk-toggleable__label sk-toggleable__label-arrow\">KNeighborsRegressor</label><div class=\"sk-toggleable__content\"><pre>KNeighborsRegressor(n_neighbors=1)</pre></div></div></div></div></div>"
      ],
      "text/plain": [
       "KNeighborsRegressor(n_neighbors=1)"
      ]
     },
     "execution_count": 26,
     "metadata": {},
     "output_type": "execute_result"
    }
   ],
   "source": [
    "model = KNeighborsRegressor(n_neighbors=1)\n",
    "model"
   ]
  },
  {
   "cell_type": "code",
   "execution_count": 27,
   "id": "fce14300-d641-4d74-8dc1-6f9fdd5cb1ef",
   "metadata": {},
   "outputs": [
    {
     "name": "stdout",
     "output_type": "stream",
     "text": [
      "The model training is completed\n"
     ]
    }
   ],
   "source": [
    "model_train = model.fit(X_train , y_train)\n",
    "print('The model training is completed')"
   ]
  },
  {
   "cell_type": "code",
   "execution_count": 28,
   "id": "f96fffeb-2d13-42b8-82a1-27cf992d1c19",
   "metadata": {},
   "outputs": [
    {
     "data": {
      "text/plain": [
       "array([1., 1., 0., 0., 0., 0., 1., 0., 0., 0., 0., 1., 0., 0., 0., 1., 1.,\n",
       "       1., 0., 1., 0., 0., 1., 0., 0., 1., 1., 0., 1., 1., 0., 1., 1., 0.,\n",
       "       1., 0., 0., 0., 0., 0., 1., 0., 0., 1., 0., 1., 0., 0., 0., 0., 0.,\n",
       "       0., 0., 0., 0., 0., 1., 1., 0., 0., 0., 0., 1., 0., 0., 1., 1., 1.,\n",
       "       0., 1., 1., 0., 0., 0., 1., 0., 0., 1., 0., 0.])"
      ]
     },
     "execution_count": 28,
     "metadata": {},
     "output_type": "execute_result"
    }
   ],
   "source": [
    "from sklearn.metrics import r2_score,mean_absolute_error\n",
    "pred = model_train.predict(X_test)\n",
    "pred"
   ]
  },
  {
   "cell_type": "code",
   "execution_count": 29,
   "id": "99494a7e-f60f-47e8-9c87-b2861395369d",
   "metadata": {},
   "outputs": [
    {
     "data": {
      "text/plain": [
       "0.9864262990455992"
      ]
     },
     "execution_count": 29,
     "metadata": {},
     "output_type": "execute_result"
    }
   ],
   "source": [
    "model_train.score(X_train , y_train)"
   ]
  },
  {
   "cell_type": "code",
   "execution_count": 30,
   "id": "42e1f942-3a3c-4df5-b0d5-a01372a667ea",
   "metadata": {},
   "outputs": [
    {
     "data": {
      "text/plain": [
       "0.17582417582417598"
      ]
     },
     "execution_count": 30,
     "metadata": {},
     "output_type": "execute_result"
    }
   ],
   "source": [
    "r2_score(y_test,pred)"
   ]
  },
  {
   "cell_type": "code",
   "execution_count": 31,
   "id": "361b5c72-8bdc-428d-959a-647ab375a036",
   "metadata": {},
   "outputs": [
    {
     "data": {
      "text/plain": [
       "0.17582417582417598"
      ]
     },
     "execution_count": 31,
     "metadata": {},
     "output_type": "execute_result"
    }
   ],
   "source": [
    "r2_score(y_test,pred)"
   ]
  },
  {
   "cell_type": "code",
   "execution_count": 32,
   "id": "b320b762-9113-4425-b28e-a930be7595b1",
   "metadata": {
    "scrolled": true
   },
   "outputs": [
    {
     "name": "stdout",
     "output_type": "stream",
     "text": [
      "When K =  1\n",
      "The Model Training in Completed\n",
      "When K =  2\n",
      "The Model Training in Completed\n",
      "When K =  3\n",
      "The Model Training in Completed\n",
      "When K =  4\n",
      "The Model Training in Completed\n",
      "When K =  5\n",
      "The Model Training in Completed\n",
      "When K =  6\n",
      "The Model Training in Completed\n",
      "When K =  7\n",
      "The Model Training in Completed\n",
      "When K =  8\n",
      "The Model Training in Completed\n",
      "When K =  9\n",
      "The Model Training in Completed\n",
      "When K =  10\n",
      "The Model Training in Completed\n",
      "When K =  11\n",
      "The Model Training in Completed\n",
      "When K =  12\n",
      "The Model Training in Completed\n",
      "When K =  13\n",
      "The Model Training in Completed\n",
      "When K =  14\n",
      "The Model Training in Completed\n",
      "When K =  15\n",
      "The Model Training in Completed\n",
      "When K =  16\n",
      "The Model Training in Completed\n",
      "When K =  17\n",
      "The Model Training in Completed\n",
      "When K =  18\n",
      "The Model Training in Completed\n",
      "When K =  19\n",
      "The Model Training in Completed\n",
      "When K =  20\n",
      "The Model Training in Completed\n",
      "When K =  21\n",
      "The Model Training in Completed\n",
      "When K =  22\n",
      "The Model Training in Completed\n",
      "When K =  23\n",
      "The Model Training in Completed\n",
      "When K =  24\n",
      "The Model Training in Completed\n",
      "When K =  25\n",
      "The Model Training in Completed\n",
      "When K =  26\n",
      "The Model Training in Completed\n",
      "When K =  27\n",
      "The Model Training in Completed\n",
      "When K =  28\n",
      "The Model Training in Completed\n",
      "When K =  29\n",
      "The Model Training in Completed\n",
      "When K =  30\n",
      "The Model Training in Completed\n",
      "When K =  31\n",
      "The Model Training in Completed\n",
      "When K =  32\n",
      "The Model Training in Completed\n",
      "When K =  33\n",
      "The Model Training in Completed\n",
      "When K =  34\n",
      "The Model Training in Completed\n",
      "When K =  35\n",
      "The Model Training in Completed\n",
      "When K =  36\n",
      "The Model Training in Completed\n",
      "When K =  37\n",
      "The Model Training in Completed\n",
      "When K =  38\n",
      "The Model Training in Completed\n",
      "When K =  39\n",
      "The Model Training in Completed\n"
     ]
    }
   ],
   "source": [
    "error = []\n",
    "k = []\n",
    "for i in range (1,40):\n",
    "    print('When K = ',i)\n",
    "    model = KNeighborsRegressor(n_neighbors=i)\n",
    "    model_train = model.fit(X_train ,y_train)\n",
    "    print('The Model Training in Completed')\n",
    "    err = round(1- model_train.score ( X_train , y_train),2)\n",
    "    error.append(err)\n",
    "    k.append(i)"
   ]
  },
  {
   "cell_type": "code",
   "execution_count": 33,
   "id": "e48e7c84-8d8d-4d8c-9de0-1dcf176fd864",
   "metadata": {
    "scrolled": true
   },
   "outputs": [
    {
     "data": {
      "text/plain": [
       "[0.01,\n",
       " 0.23,\n",
       " 0.32,\n",
       " 0.37,\n",
       " 0.41,\n",
       " 0.43,\n",
       " 0.45,\n",
       " 0.47,\n",
       " 0.49,\n",
       " 0.49,\n",
       " 0.5,\n",
       " 0.51,\n",
       " 0.52,\n",
       " 0.53,\n",
       " 0.54,\n",
       " 0.53,\n",
       " 0.53,\n",
       " 0.55,\n",
       " 0.56,\n",
       " 0.57,\n",
       " 0.57,\n",
       " 0.57,\n",
       " 0.58,\n",
       " 0.58,\n",
       " 0.59,\n",
       " 0.6,\n",
       " 0.61,\n",
       " 0.61,\n",
       " 0.61,\n",
       " 0.61,\n",
       " 0.61,\n",
       " 0.61,\n",
       " 0.62,\n",
       " 0.62,\n",
       " 0.63,\n",
       " 0.63,\n",
       " 0.63,\n",
       " 0.62,\n",
       " 0.63]"
      ]
     },
     "execution_count": 33,
     "metadata": {},
     "output_type": "execute_result"
    }
   ],
   "source": [
    "error"
   ]
  },
  {
   "cell_type": "code",
   "execution_count": 34,
   "id": "aab08af2-a8cc-42b4-80da-16dd642f443b",
   "metadata": {},
   "outputs": [
    {
     "data": {
      "text/plain": [
       "[1,\n",
       " 2,\n",
       " 3,\n",
       " 4,\n",
       " 5,\n",
       " 6,\n",
       " 7,\n",
       " 8,\n",
       " 9,\n",
       " 10,\n",
       " 11,\n",
       " 12,\n",
       " 13,\n",
       " 14,\n",
       " 15,\n",
       " 16,\n",
       " 17,\n",
       " 18,\n",
       " 19,\n",
       " 20,\n",
       " 21,\n",
       " 22,\n",
       " 23,\n",
       " 24,\n",
       " 25,\n",
       " 26,\n",
       " 27,\n",
       " 28,\n",
       " 29,\n",
       " 30,\n",
       " 31,\n",
       " 32,\n",
       " 33,\n",
       " 34,\n",
       " 35,\n",
       " 36,\n",
       " 37,\n",
       " 38,\n",
       " 39]"
      ]
     },
     "execution_count": 34,
     "metadata": {},
     "output_type": "execute_result"
    }
   ],
   "source": [
    "k"
   ]
  },
  {
   "cell_type": "code",
   "execution_count": 35,
   "id": "b6b3380a-a997-4f85-a79f-41630e07b7c1",
   "metadata": {
    "scrolled": true
   },
   "outputs": [
    {
     "data": {
      "text/html": [
       "<div>\n",
       "<style scoped>\n",
       "    .dataframe tbody tr th:only-of-type {\n",
       "        vertical-align: middle;\n",
       "    }\n",
       "\n",
       "    .dataframe tbody tr th {\n",
       "        vertical-align: top;\n",
       "    }\n",
       "\n",
       "    .dataframe thead th {\n",
       "        text-align: right;\n",
       "    }\n",
       "</style>\n",
       "<table border=\"1\" class=\"dataframe\">\n",
       "  <thead>\n",
       "    <tr style=\"text-align: right;\">\n",
       "      <th></th>\n",
       "      <th>K</th>\n",
       "      <th>Error</th>\n",
       "    </tr>\n",
       "  </thead>\n",
       "  <tbody>\n",
       "    <tr>\n",
       "      <th>0</th>\n",
       "      <td>1</td>\n",
       "      <td>0.01</td>\n",
       "    </tr>\n",
       "    <tr>\n",
       "      <th>1</th>\n",
       "      <td>2</td>\n",
       "      <td>0.23</td>\n",
       "    </tr>\n",
       "    <tr>\n",
       "      <th>2</th>\n",
       "      <td>3</td>\n",
       "      <td>0.32</td>\n",
       "    </tr>\n",
       "    <tr>\n",
       "      <th>3</th>\n",
       "      <td>4</td>\n",
       "      <td>0.37</td>\n",
       "    </tr>\n",
       "    <tr>\n",
       "      <th>4</th>\n",
       "      <td>5</td>\n",
       "      <td>0.41</td>\n",
       "    </tr>\n",
       "    <tr>\n",
       "      <th>5</th>\n",
       "      <td>6</td>\n",
       "      <td>0.43</td>\n",
       "    </tr>\n",
       "    <tr>\n",
       "      <th>6</th>\n",
       "      <td>7</td>\n",
       "      <td>0.45</td>\n",
       "    </tr>\n",
       "    <tr>\n",
       "      <th>7</th>\n",
       "      <td>8</td>\n",
       "      <td>0.47</td>\n",
       "    </tr>\n",
       "    <tr>\n",
       "      <th>8</th>\n",
       "      <td>9</td>\n",
       "      <td>0.49</td>\n",
       "    </tr>\n",
       "    <tr>\n",
       "      <th>9</th>\n",
       "      <td>10</td>\n",
       "      <td>0.49</td>\n",
       "    </tr>\n",
       "    <tr>\n",
       "      <th>10</th>\n",
       "      <td>11</td>\n",
       "      <td>0.50</td>\n",
       "    </tr>\n",
       "    <tr>\n",
       "      <th>11</th>\n",
       "      <td>12</td>\n",
       "      <td>0.51</td>\n",
       "    </tr>\n",
       "    <tr>\n",
       "      <th>12</th>\n",
       "      <td>13</td>\n",
       "      <td>0.52</td>\n",
       "    </tr>\n",
       "    <tr>\n",
       "      <th>13</th>\n",
       "      <td>14</td>\n",
       "      <td>0.53</td>\n",
       "    </tr>\n",
       "    <tr>\n",
       "      <th>14</th>\n",
       "      <td>15</td>\n",
       "      <td>0.54</td>\n",
       "    </tr>\n",
       "    <tr>\n",
       "      <th>15</th>\n",
       "      <td>16</td>\n",
       "      <td>0.53</td>\n",
       "    </tr>\n",
       "    <tr>\n",
       "      <th>16</th>\n",
       "      <td>17</td>\n",
       "      <td>0.53</td>\n",
       "    </tr>\n",
       "    <tr>\n",
       "      <th>17</th>\n",
       "      <td>18</td>\n",
       "      <td>0.55</td>\n",
       "    </tr>\n",
       "    <tr>\n",
       "      <th>18</th>\n",
       "      <td>19</td>\n",
       "      <td>0.56</td>\n",
       "    </tr>\n",
       "    <tr>\n",
       "      <th>19</th>\n",
       "      <td>20</td>\n",
       "      <td>0.57</td>\n",
       "    </tr>\n",
       "    <tr>\n",
       "      <th>20</th>\n",
       "      <td>21</td>\n",
       "      <td>0.57</td>\n",
       "    </tr>\n",
       "    <tr>\n",
       "      <th>21</th>\n",
       "      <td>22</td>\n",
       "      <td>0.57</td>\n",
       "    </tr>\n",
       "    <tr>\n",
       "      <th>22</th>\n",
       "      <td>23</td>\n",
       "      <td>0.58</td>\n",
       "    </tr>\n",
       "    <tr>\n",
       "      <th>23</th>\n",
       "      <td>24</td>\n",
       "      <td>0.58</td>\n",
       "    </tr>\n",
       "    <tr>\n",
       "      <th>24</th>\n",
       "      <td>25</td>\n",
       "      <td>0.59</td>\n",
       "    </tr>\n",
       "    <tr>\n",
       "      <th>25</th>\n",
       "      <td>26</td>\n",
       "      <td>0.60</td>\n",
       "    </tr>\n",
       "    <tr>\n",
       "      <th>26</th>\n",
       "      <td>27</td>\n",
       "      <td>0.61</td>\n",
       "    </tr>\n",
       "    <tr>\n",
       "      <th>27</th>\n",
       "      <td>28</td>\n",
       "      <td>0.61</td>\n",
       "    </tr>\n",
       "    <tr>\n",
       "      <th>28</th>\n",
       "      <td>29</td>\n",
       "      <td>0.61</td>\n",
       "    </tr>\n",
       "    <tr>\n",
       "      <th>29</th>\n",
       "      <td>30</td>\n",
       "      <td>0.61</td>\n",
       "    </tr>\n",
       "    <tr>\n",
       "      <th>30</th>\n",
       "      <td>31</td>\n",
       "      <td>0.61</td>\n",
       "    </tr>\n",
       "    <tr>\n",
       "      <th>31</th>\n",
       "      <td>32</td>\n",
       "      <td>0.61</td>\n",
       "    </tr>\n",
       "    <tr>\n",
       "      <th>32</th>\n",
       "      <td>33</td>\n",
       "      <td>0.62</td>\n",
       "    </tr>\n",
       "    <tr>\n",
       "      <th>33</th>\n",
       "      <td>34</td>\n",
       "      <td>0.62</td>\n",
       "    </tr>\n",
       "    <tr>\n",
       "      <th>34</th>\n",
       "      <td>35</td>\n",
       "      <td>0.63</td>\n",
       "    </tr>\n",
       "    <tr>\n",
       "      <th>35</th>\n",
       "      <td>36</td>\n",
       "      <td>0.63</td>\n",
       "    </tr>\n",
       "    <tr>\n",
       "      <th>36</th>\n",
       "      <td>37</td>\n",
       "      <td>0.63</td>\n",
       "    </tr>\n",
       "    <tr>\n",
       "      <th>37</th>\n",
       "      <td>38</td>\n",
       "      <td>0.62</td>\n",
       "    </tr>\n",
       "    <tr>\n",
       "      <th>38</th>\n",
       "      <td>39</td>\n",
       "      <td>0.63</td>\n",
       "    </tr>\n",
       "  </tbody>\n",
       "</table>\n",
       "</div>"
      ],
      "text/plain": [
       "     K  Error\n",
       "0    1   0.01\n",
       "1    2   0.23\n",
       "2    3   0.32\n",
       "3    4   0.37\n",
       "4    5   0.41\n",
       "5    6   0.43\n",
       "6    7   0.45\n",
       "7    8   0.47\n",
       "8    9   0.49\n",
       "9   10   0.49\n",
       "10  11   0.50\n",
       "11  12   0.51\n",
       "12  13   0.52\n",
       "13  14   0.53\n",
       "14  15   0.54\n",
       "15  16   0.53\n",
       "16  17   0.53\n",
       "17  18   0.55\n",
       "18  19   0.56\n",
       "19  20   0.57\n",
       "20  21   0.57\n",
       "21  22   0.57\n",
       "22  23   0.58\n",
       "23  24   0.58\n",
       "24  25   0.59\n",
       "25  26   0.60\n",
       "26  27   0.61\n",
       "27  28   0.61\n",
       "28  29   0.61\n",
       "29  30   0.61\n",
       "30  31   0.61\n",
       "31  32   0.61\n",
       "32  33   0.62\n",
       "33  34   0.62\n",
       "34  35   0.63\n",
       "35  36   0.63\n",
       "36  37   0.63\n",
       "37  38   0.62\n",
       "38  39   0.63"
      ]
     },
     "execution_count": 35,
     "metadata": {},
     "output_type": "execute_result"
    }
   ],
   "source": [
    "## Creating the datafram -\n",
    "df1 = pd.DataFrame({'K': k , 'Error': error})\n",
    "df1"
   ]
  },
  {
   "cell_type": "code",
   "execution_count": 37,
   "id": "c0d7154b-e55e-4198-8894-564ece5db2f9",
   "metadata": {},
   "outputs": [
    {
     "data": {
      "text/plain": [
       "209    0\n",
       "280    1\n",
       "33     0\n",
       "210    1\n",
       "93     0\n",
       "      ..\n",
       "246    0\n",
       "227    1\n",
       "369    1\n",
       "176    0\n",
       "289    1\n",
       "Name: Purchase Iphone, Length: 80, dtype: int64"
      ]
     },
     "execution_count": 37,
     "metadata": {},
     "output_type": "execute_result"
    }
   ],
   "source": [
    "y_test"
   ]
  },
  {
   "cell_type": "code",
   "execution_count": 38,
   "id": "da173c62-4809-4796-989e-18f6c72d740c",
   "metadata": {},
   "outputs": [
    {
     "data": {
      "text/plain": [
       "array([1., 1., 0., 0., 0., 0., 1., 0., 0., 0., 0., 1., 0., 0., 0., 1., 1.,\n",
       "       1., 0., 1., 0., 0., 1., 0., 0., 1., 1., 0., 1., 1., 0., 1., 1., 0.,\n",
       "       1., 0., 0., 0., 0., 0., 1., 0., 0., 1., 0., 1., 0., 0., 0., 0., 0.,\n",
       "       0., 0., 0., 0., 0., 1., 1., 0., 0., 0., 0., 1., 0., 0., 1., 1., 1.,\n",
       "       0., 1., 1., 0., 0., 0., 1., 0., 0., 1., 0., 0.])"
      ]
     },
     "execution_count": 38,
     "metadata": {},
     "output_type": "execute_result"
    }
   ],
   "source": [
    "pred"
   ]
  },
  {
   "cell_type": "code",
   "execution_count": 39,
   "id": "42b1877d-f599-4166-9f6d-934bff4006a1",
   "metadata": {},
   "outputs": [],
   "source": [
    "from sklearn.metrics import mean_squared_error"
   ]
  },
  {
   "cell_type": "code",
   "execution_count": 40,
   "id": "b8ac8c73-480c-4098-879d-b4426d44e0c8",
   "metadata": {},
   "outputs": [
    {
     "name": "stdout",
     "output_type": "stream",
     "text": [
      "Mean Squared Error: 0.1875\n"
     ]
    }
   ],
   "source": [
    "# Calculate MSE\n",
    "mse = mean_squared_error(y_test, pred)\n",
    "print(f\"Mean Squared Error: {mse}\")"
   ]
  },
  {
   "cell_type": "code",
   "execution_count": null,
   "id": "a7a42ec0-ee11-4bfc-b0fa-ca2b617e7aea",
   "metadata": {},
   "outputs": [],
   "source": [
    "sns.lineplot(x = 'K' , y = 'Error' ,data =df1)"
   ]
  },
  {
   "cell_type": "code",
   "execution_count": null,
   "id": "b37dd9f4-d44a-457c-aee3-6aefd6a2a88c",
   "metadata": {},
   "outputs": [],
   "source": [
    "import joblib"
   ]
  },
  {
   "cell_type": "code",
   "execution_count": null,
   "id": "587c06a1-8929-4fbd-ae68-c4bb09b03de8",
   "metadata": {},
   "outputs": [],
   "source": [
    "joblib.dump(model,'KNN_RegV1.sav')"
   ]
  },
  {
   "cell_type": "code",
   "execution_count": null,
   "id": "d142fd21-f444-4cde-b381-5d8d511cdf85",
   "metadata": {},
   "outputs": [],
   "source": []
  }
 ],
 "metadata": {
  "kernelspec": {
   "display_name": "Python 3 (ipykernel)",
   "language": "python",
   "name": "python3"
  },
  "language_info": {
   "codemirror_mode": {
    "name": "ipython",
    "version": 3
   },
   "file_extension": ".py",
   "mimetype": "text/x-python",
   "name": "python",
   "nbconvert_exporter": "python",
   "pygments_lexer": "ipython3",
   "version": "3.11.7"
  }
 },
 "nbformat": 4,
 "nbformat_minor": 5
}
