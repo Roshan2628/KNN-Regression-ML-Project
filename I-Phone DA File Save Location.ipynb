{
 "cells": [
  {
   "cell_type": "code",
   "execution_count": 9,
   "id": "8c68678c-8e02-408a-b26b-fb130f01bc7b",
   "metadata": {},
   "outputs": [],
   "source": [
    "import joblib\n",
    "import pandas as pd"
   ]
  },
  {
   "cell_type": "code",
   "execution_count": 10,
   "id": "dae92312-8645-471e-a587-0ee7657714be",
   "metadata": {},
   "outputs": [
    {
     "name": "stdout",
     "output_type": "stream",
     "text": [
      "KNeighborsRegressor(n_neighbors=39)\n"
     ]
    }
   ],
   "source": [
    "filename = 'KNN_RegV1.sav'\n",
    "sav_model = joblib.load(filename)\n",
    "print(sav_model)"
   ]
  },
  {
   "cell_type": "code",
   "execution_count": null,
   "id": "cbea291d-894f-4d28-8196-a7c151139d58",
   "metadata": {},
   "outputs": [],
   "source": []
  }
 ],
 "metadata": {
  "kernelspec": {
   "display_name": "Python 3 (ipykernel)",
   "language": "python",
   "name": "python3"
  },
  "language_info": {
   "codemirror_mode": {
    "name": "ipython",
    "version": 3
   },
   "file_extension": ".py",
   "mimetype": "text/x-python",
   "name": "python",
   "nbconvert_exporter": "python",
   "pygments_lexer": "ipython3",
   "version": "3.11.7"
  }
 },
 "nbformat": 4,
 "nbformat_minor": 5
}
