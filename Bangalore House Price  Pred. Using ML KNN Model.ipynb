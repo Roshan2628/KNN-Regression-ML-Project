{
 "cells": [
  {
   "cell_type": "markdown",
   "id": "343b51ce-95cf-4440-98b9-5c7fdfb2eb41",
   "metadata": {},
   "source": [
    "# Bangalore House Price  Pred. Using ML KNN Model"
   ]
  },
  {
   "cell_type": "markdown",
   "id": "e9b1ed8c-7d0a-4835-919a-feef8315bf45",
   "metadata": {},
   "source": [
    "# Bangalore House Price  Pred. Using ML KNN Model"
   ]
  },
  {
   "cell_type": "code",
   "execution_count": 1,
   "id": "f31cc27b-c922-41cb-adbf-029d6555b058",
   "metadata": {},
   "outputs": [],
   "source": [
    "# Firstly We Have to IMPORT the Libraries -\n",
    "import pandas as pd\n",
    "import seaborn as sns\n",
    "import matplotlib.pyplot as plt\n",
    "from sklearn.linear_model import LinearRegression"
   ]
  },
  {
   "cell_type": "code",
   "execution_count": 3,
   "id": "a359bfad-b990-46ac-9771-9a44c5a74cd6",
   "metadata": {},
   "outputs": [
    {
     "name": "stdout",
     "output_type": "stream",
     "text": [
      "   bath  balcony  price  total_sqft_int  bhk  price_per_sqft  \\\n",
      "0   3.0      2.0  150.0          1672.0    3     8971.291866   \n",
      "1   3.0      3.0  149.0          1750.0    3     8514.285714   \n",
      "\n",
      "   area_typeSuper built-up  Area  area_typeBuilt-up  Area  \\\n",
      "0                              1                        0   \n",
      "1                              0                        1   \n",
      "\n",
      "   area_typePlot  Area  availability_Ready To Move  ...  \\\n",
      "0                    0                           1  ...   \n",
      "1                    0                           1  ...   \n",
      "\n",
      "   location_Kalena Agrahara  location_Horamavu Agara  location_Vidyaranyapura  \\\n",
      "0                         0                        0                        0   \n",
      "1                         0                        0                        0   \n",
      "\n",
      "   location_BTM 2nd Stage  location_Hebbal Kempapura  location_Hosur Road  \\\n",
      "0                       0                          0                    0   \n",
      "1                       0                          0                    0   \n",
      "\n",
      "   location_Horamavu Banaswadi  location_Domlur  location_Mahadevpura  \\\n",
      "0                            0                0                     0   \n",
      "1                            0                0                     0   \n",
      "\n",
      "   location_Tumkur Road  \n",
      "0                     0  \n",
      "1                     0  \n",
      "\n",
      "[2 rows x 108 columns]\n"
     ]
    }
   ],
   "source": [
    "# Importing the Data from our system - \n",
    "data = pd.read_csv('D:/Top Mentor/Classes Details/4th May/Files/KNN_Project_5&6/KNN Assignment/bangalore house price prediction OHE-data.csv')\n",
    "print(data.head(2))"
   ]
  },
  {
   "cell_type": "code",
   "execution_count": 4,
   "id": "2bf47f5a-abf9-4386-89eb-d659737299e7",
   "metadata": {
    "scrolled": true
   },
   "outputs": [
    {
     "name": "stdout",
     "output_type": "stream",
     "text": [
      "   bath  balcony  price  total_sqft_int  bhk  price_per_sqft  \\\n",
      "0   3.0      2.0  150.0          1672.0    3     8971.291866   \n",
      "1   3.0      3.0  149.0          1750.0    3     8514.285714   \n",
      "\n",
      "   area_typeSuper built-up  Area  area_typeBuilt-up  Area  \\\n",
      "0                              1                        0   \n",
      "1                              0                        1   \n",
      "\n",
      "   area_typePlot  Area  availability_Ready To Move  ...  \\\n",
      "0                    0                           1  ...   \n",
      "1                    0                           1  ...   \n",
      "\n",
      "   location_Kalena Agrahara  location_Horamavu Agara  location_Vidyaranyapura  \\\n",
      "0                         0                        0                        0   \n",
      "1                         0                        0                        0   \n",
      "\n",
      "   location_BTM 2nd Stage  location_Hebbal Kempapura  location_Hosur Road  \\\n",
      "0                       0                          0                    0   \n",
      "1                       0                          0                    0   \n",
      "\n",
      "   location_Horamavu Banaswadi  location_Domlur  location_Mahadevpura  \\\n",
      "0                            0                0                     0   \n",
      "1                            0                0                     0   \n",
      "\n",
      "   location_Tumkur Road  \n",
      "0                     0  \n",
      "1                     0  \n",
      "\n",
      "[2 rows x 108 columns]\n"
     ]
    }
   ],
   "source": [
    "## Firstly We have to copy this data as our data keep safe - \n",
    "df = data.copy()\n",
    "print(df.head(2))"
   ]
  },
  {
   "cell_type": "code",
   "execution_count": 5,
   "id": "96ed3479-ecc7-4818-b7da-75829464656d",
   "metadata": {},
   "outputs": [
    {
     "name": "stdout",
     "output_type": "stream",
     "text": [
      "<class 'pandas.core.frame.DataFrame'>\n",
      "RangeIndex: 7120 entries, 0 to 7119\n",
      "Columns: 108 entries, bath to location_Tumkur Road\n",
      "dtypes: float64(5), int64(103)\n",
      "memory usage: 5.9 MB\n"
     ]
    }
   ],
   "source": [
    "#  Checking Data Information \n",
    "df.info()"
   ]
  },
  {
   "cell_type": "code",
   "execution_count": 6,
   "id": "51146c71-5468-4bd3-850d-5a865ead091a",
   "metadata": {},
   "outputs": [
    {
     "data": {
      "text/plain": [
       "Index(['bath', 'balcony', 'price', 'total_sqft_int', 'bhk', 'price_per_sqft',\n",
       "       'area_typeSuper built-up  Area', 'area_typeBuilt-up  Area',\n",
       "       'area_typePlot  Area', 'availability_Ready To Move',\n",
       "       ...\n",
       "       'location_Kalena Agrahara', 'location_Horamavu Agara',\n",
       "       'location_Vidyaranyapura', 'location_BTM 2nd Stage',\n",
       "       'location_Hebbal Kempapura', 'location_Hosur Road',\n",
       "       'location_Horamavu Banaswadi', 'location_Domlur',\n",
       "       'location_Mahadevpura', 'location_Tumkur Road'],\n",
       "      dtype='object', length=108)"
      ]
     },
     "execution_count": 6,
     "metadata": {},
     "output_type": "execute_result"
    }
   ],
   "source": [
    "df.columns"
   ]
  },
  {
   "cell_type": "code",
   "execution_count": 17,
   "id": "015e552b-cbef-4f0e-a305-fe4f27b9c10f",
   "metadata": {},
   "outputs": [
    {
     "name": "stdout",
     "output_type": "stream",
     "text": [
      "   bath  balcony  price  total_sqft_int  bhk  price_per_sqft\n",
      "0   3.0      2.0  150.0          1672.0    3     8971.291866\n",
      "1   3.0      3.0  149.0          1750.0    3     8514.285714\n",
      "2   3.0      2.0  150.0          1750.0    3     8571.428571\n",
      "3   2.0      2.0   40.0          1250.0    2     3200.000000\n",
      "4   2.0      2.0   83.0          1200.0    2     6916.666667\n"
     ]
    }
   ],
   "source": [
    "## Here is huge numbers of columns but we required only 5 columns , So we are creating new Dataframe . \n",
    "# As 'df' is your original DataFrame\n",
    "selected_columns = [['bath', 'balcony', 'price', 'total_sqft_int', 'bhk','price_per_sqft']]\n",
    "df1 = df[['bath', 'balcony', 'price', 'total_sqft_int', 'bhk','price_per_sqft']]\n",
    "print(df1.head())"
   ]
  },
  {
   "cell_type": "code",
   "execution_count": 30,
   "id": "b25519c3-d47a-4e4b-a333-ace8ce211bc5",
   "metadata": {},
   "outputs": [
    {
     "name": "stdout",
     "output_type": "stream",
     "text": [
      "Min Price of House-  10.0\n",
      "Max Price of House -  2912.0\n",
      "Min price_per_sqft -  1250.0\n",
      "Max price_per_sqft -  35000.0\n",
      "no of columns - \n",
      " Index(['bath', 'balcony', 'price', 'total_sqft_int', 'bhk', 'price_per_sqft'], dtype='object')\n",
      "no of shapes -  (7120, 6)\n",
      "no of lenght -  7120\n",
      "no of datatype - \n",
      " bath              float64\n",
      "balcony           float64\n",
      "price             float64\n",
      "total_sqft_int    float64\n",
      "bhk                 int64\n",
      "price_per_sqft    float64\n",
      "dtype: object\n"
     ]
    }
   ],
   "source": [
    "## After Creation of our required data then we start our proper analysis - \n",
    "## Data Reading Basic Steps :-\n",
    "print('Min Price of House- ',df1['price'].min())\n",
    "print('Max Price of House - ',df1['price'].max())\n",
    "print('Min price_per_sqft - ',df1['price_per_sqft'].min())\n",
    "print('Max price_per_sqft - ',df1['price_per_sqft'].max())\n",
    "print('no of columns - \\n' , df1.columns)\n",
    "print('no of shapes - ' , df1.shape)\n",
    "print('no of lenght - ' , len(df1))\n",
    "print('no of datatype - \\n' , df1.dtypes)"
   ]
  },
  {
   "cell_type": "code",
   "execution_count": 31,
   "id": "11fca09d-22e3-4c54-bed4-02b535e72a44",
   "metadata": {
    "scrolled": true
   },
   "outputs": [
    {
     "name": "stdout",
     "output_type": "stream",
     "text": [
      "DataSet Information -\n",
      "               bath      balcony        price  total_sqft_int          bhk  \\\n",
      "count  7120.000000  7120.000000  7120.000000     7120.000000  7120.000000   \n",
      "mean      2.390871     1.572759    96.454991     1479.729806     2.465169   \n",
      "std       0.876822     0.770583   116.185034      913.779769     0.841520   \n",
      "min       1.000000     0.000000    10.000000      350.000000     1.000000   \n",
      "25%       2.000000     1.000000    49.230000     1100.000000     2.000000   \n",
      "50%       2.000000     2.000000    69.000000     1255.000000     2.000000   \n",
      "75%       3.000000     2.000000   104.000000     1640.250000     3.000000   \n",
      "max       9.000000     3.000000  2912.000000    30400.000000     9.000000   \n",
      "\n",
      "       price_per_sqft  \n",
      "count     7120.000000  \n",
      "mean      5923.806855  \n",
      "std       2556.650935  \n",
      "min       1250.000000  \n",
      "25%       4416.761042  \n",
      "50%       5417.855613  \n",
      "75%       6618.285651  \n",
      "max      35000.000000  \n"
     ]
    }
   ],
   "source": [
    "print('DataSet Information -\\n',df1.describe())"
   ]
  },
  {
   "cell_type": "code",
   "execution_count": 25,
   "id": "8c5ac594-b22b-4079-8375-eeb2d4817268",
   "metadata": {},
   "outputs": [
    {
     "data": {
      "text/plain": [
       "bath              0.523941\n",
       "balcony           0.138946\n",
       "price             1.000000\n",
       "total_sqft_int    0.797955\n",
       "bhk               0.497817\n",
       "price_per_sqft    0.717821\n",
       "Name: price, dtype: float64"
      ]
     },
     "execution_count": 25,
     "metadata": {},
     "output_type": "execute_result"
    }
   ],
   "source": [
    "# Check Correlation For Features Selection\n",
    "df1.corr()[\"price\"]"
   ]
  },
  {
   "cell_type": "code",
   "execution_count": 26,
   "id": "f9b40660-39c7-41fb-9e6d-7c5c4dc97b4e",
   "metadata": {},
   "outputs": [],
   "source": [
    "# We Selecting  Features : bath, total_sqft_int, price_per_sqft Corr > 0.50"
   ]
  },
  {
   "cell_type": "code",
   "execution_count": 32,
   "id": "7aa8b578-09e1-4507-a339-416a90695fb6",
   "metadata": {},
   "outputs": [],
   "source": [
    "## Now we starting the training & Testing for data - \n",
    "X = df[['bath','total_sqft_int','price_per_sqft']]\n",
    "y =df['price'] "
   ]
  },
  {
   "cell_type": "code",
   "execution_count": 37,
   "id": "fca54b13-e3e4-4519-b6f3-eee828e828c3",
   "metadata": {},
   "outputs": [
    {
     "data": {
      "text/html": [
       "<div>\n",
       "<style scoped>\n",
       "    .dataframe tbody tr th:only-of-type {\n",
       "        vertical-align: middle;\n",
       "    }\n",
       "\n",
       "    .dataframe tbody tr th {\n",
       "        vertical-align: top;\n",
       "    }\n",
       "\n",
       "    .dataframe thead th {\n",
       "        text-align: right;\n",
       "    }\n",
       "</style>\n",
       "<table border=\"1\" class=\"dataframe\">\n",
       "  <thead>\n",
       "    <tr style=\"text-align: right;\">\n",
       "      <th></th>\n",
       "      <th>bath</th>\n",
       "      <th>total_sqft_int</th>\n",
       "      <th>price_per_sqft</th>\n",
       "    </tr>\n",
       "  </thead>\n",
       "  <tbody>\n",
       "    <tr>\n",
       "      <th>0</th>\n",
       "      <td>3.0</td>\n",
       "      <td>1672.0</td>\n",
       "      <td>8971.291866</td>\n",
       "    </tr>\n",
       "    <tr>\n",
       "      <th>1</th>\n",
       "      <td>3.0</td>\n",
       "      <td>1750.0</td>\n",
       "      <td>8514.285714</td>\n",
       "    </tr>\n",
       "    <tr>\n",
       "      <th>2</th>\n",
       "      <td>3.0</td>\n",
       "      <td>1750.0</td>\n",
       "      <td>8571.428571</td>\n",
       "    </tr>\n",
       "    <tr>\n",
       "      <th>3</th>\n",
       "      <td>2.0</td>\n",
       "      <td>1250.0</td>\n",
       "      <td>3200.000000</td>\n",
       "    </tr>\n",
       "    <tr>\n",
       "      <th>4</th>\n",
       "      <td>2.0</td>\n",
       "      <td>1200.0</td>\n",
       "      <td>6916.666667</td>\n",
       "    </tr>\n",
       "  </tbody>\n",
       "</table>\n",
       "</div>"
      ],
      "text/plain": [
       "   bath  total_sqft_int  price_per_sqft\n",
       "0   3.0          1672.0     8971.291866\n",
       "1   3.0          1750.0     8514.285714\n",
       "2   3.0          1750.0     8571.428571\n",
       "3   2.0          1250.0     3200.000000\n",
       "4   2.0          1200.0     6916.666667"
      ]
     },
     "execution_count": 37,
     "metadata": {},
     "output_type": "execute_result"
    }
   ],
   "source": [
    "X.head()"
   ]
  },
  {
   "cell_type": "code",
   "execution_count": 38,
   "id": "4bba584f-c2af-4ef6-adb0-a8ceba9a5451",
   "metadata": {},
   "outputs": [
    {
     "data": {
      "text/plain": [
       "0    150.0\n",
       "1    149.0\n",
       "2    150.0\n",
       "3     40.0\n",
       "4     83.0\n",
       "Name: price, dtype: float64"
      ]
     },
     "execution_count": 38,
     "metadata": {},
     "output_type": "execute_result"
    }
   ],
   "source": [
    " y.head()"
   ]
  },
  {
   "cell_type": "code",
   "execution_count": 39,
   "id": "caea9be3-ae93-47be-99ae-961f52e00c05",
   "metadata": {},
   "outputs": [],
   "source": [
    "from sklearn.model_selection import train_test_split"
   ]
  },
  {
   "cell_type": "code",
   "execution_count": 40,
   "id": "56fe4219-656a-4aae-8e55-bf7201056c7f",
   "metadata": {},
   "outputs": [],
   "source": [
    "X_train , X_test , y_train ,y_test =train_test_split(X,y,test_size=0.2 ,random_state=42)"
   ]
  },
  {
   "cell_type": "code",
   "execution_count": 41,
   "id": "624034c4-7639-4b4f-b47e-67896c8490a0",
   "metadata": {},
   "outputs": [
    {
     "data": {
      "text/plain": [
       "((5696, 3), (5696,))"
      ]
     },
     "execution_count": 41,
     "metadata": {},
     "output_type": "execute_result"
    }
   ],
   "source": [
    "X_train.shape , y_train.shape"
   ]
  },
  {
   "cell_type": "code",
   "execution_count": 42,
   "id": "0cd987ae-d0cb-45fc-b5ee-ec449700ec3b",
   "metadata": {},
   "outputs": [
    {
     "data": {
      "text/plain": [
       "((1424, 3), (1424,))"
      ]
     },
     "execution_count": 42,
     "metadata": {},
     "output_type": "execute_result"
    }
   ],
   "source": [
    "X_test.shape , y_test.shape"
   ]
  },
  {
   "cell_type": "code",
   "execution_count": 43,
   "id": "7fdb2ea5-71e0-42d4-885c-9162b73a76c7",
   "metadata": {},
   "outputs": [],
   "source": [
    "from sklearn.neighbors import KNeighborsRegressor"
   ]
  },
  {
   "cell_type": "code",
   "execution_count": 44,
   "id": "d874dadd-5c66-4207-844a-df0963ffd10b",
   "metadata": {},
   "outputs": [
    {
     "data": {
      "text/html": [
       "<style>#sk-container-id-1 {color: black;background-color: white;}#sk-container-id-1 pre{padding: 0;}#sk-container-id-1 div.sk-toggleable {background-color: white;}#sk-container-id-1 label.sk-toggleable__label {cursor: pointer;display: block;width: 100%;margin-bottom: 0;padding: 0.3em;box-sizing: border-box;text-align: center;}#sk-container-id-1 label.sk-toggleable__label-arrow:before {content: \"▸\";float: left;margin-right: 0.25em;color: #696969;}#sk-container-id-1 label.sk-toggleable__label-arrow:hover:before {color: black;}#sk-container-id-1 div.sk-estimator:hover label.sk-toggleable__label-arrow:before {color: black;}#sk-container-id-1 div.sk-toggleable__content {max-height: 0;max-width: 0;overflow: hidden;text-align: left;background-color: #f0f8ff;}#sk-container-id-1 div.sk-toggleable__content pre {margin: 0.2em;color: black;border-radius: 0.25em;background-color: #f0f8ff;}#sk-container-id-1 input.sk-toggleable__control:checked~div.sk-toggleable__content {max-height: 200px;max-width: 100%;overflow: auto;}#sk-container-id-1 input.sk-toggleable__control:checked~label.sk-toggleable__label-arrow:before {content: \"▾\";}#sk-container-id-1 div.sk-estimator input.sk-toggleable__control:checked~label.sk-toggleable__label {background-color: #d4ebff;}#sk-container-id-1 div.sk-label input.sk-toggleable__control:checked~label.sk-toggleable__label {background-color: #d4ebff;}#sk-container-id-1 input.sk-hidden--visually {border: 0;clip: rect(1px 1px 1px 1px);clip: rect(1px, 1px, 1px, 1px);height: 1px;margin: -1px;overflow: hidden;padding: 0;position: absolute;width: 1px;}#sk-container-id-1 div.sk-estimator {font-family: monospace;background-color: #f0f8ff;border: 1px dotted black;border-radius: 0.25em;box-sizing: border-box;margin-bottom: 0.5em;}#sk-container-id-1 div.sk-estimator:hover {background-color: #d4ebff;}#sk-container-id-1 div.sk-parallel-item::after {content: \"\";width: 100%;border-bottom: 1px solid gray;flex-grow: 1;}#sk-container-id-1 div.sk-label:hover label.sk-toggleable__label {background-color: #d4ebff;}#sk-container-id-1 div.sk-serial::before {content: \"\";position: absolute;border-left: 1px solid gray;box-sizing: border-box;top: 0;bottom: 0;left: 50%;z-index: 0;}#sk-container-id-1 div.sk-serial {display: flex;flex-direction: column;align-items: center;background-color: white;padding-right: 0.2em;padding-left: 0.2em;position: relative;}#sk-container-id-1 div.sk-item {position: relative;z-index: 1;}#sk-container-id-1 div.sk-parallel {display: flex;align-items: stretch;justify-content: center;background-color: white;position: relative;}#sk-container-id-1 div.sk-item::before, #sk-container-id-1 div.sk-parallel-item::before {content: \"\";position: absolute;border-left: 1px solid gray;box-sizing: border-box;top: 0;bottom: 0;left: 50%;z-index: -1;}#sk-container-id-1 div.sk-parallel-item {display: flex;flex-direction: column;z-index: 1;position: relative;background-color: white;}#sk-container-id-1 div.sk-parallel-item:first-child::after {align-self: flex-end;width: 50%;}#sk-container-id-1 div.sk-parallel-item:last-child::after {align-self: flex-start;width: 50%;}#sk-container-id-1 div.sk-parallel-item:only-child::after {width: 0;}#sk-container-id-1 div.sk-dashed-wrapped {border: 1px dashed gray;margin: 0 0.4em 0.5em 0.4em;box-sizing: border-box;padding-bottom: 0.4em;background-color: white;}#sk-container-id-1 div.sk-label label {font-family: monospace;font-weight: bold;display: inline-block;line-height: 1.2em;}#sk-container-id-1 div.sk-label-container {text-align: center;}#sk-container-id-1 div.sk-container {/* jupyter's `normalize.less` sets `[hidden] { display: none; }` but bootstrap.min.css set `[hidden] { display: none !important; }` so we also need the `!important` here to be able to override the default hidden behavior on the sphinx rendered scikit-learn.org. See: https://github.com/scikit-learn/scikit-learn/issues/21755 */display: inline-block !important;position: relative;}#sk-container-id-1 div.sk-text-repr-fallback {display: none;}</style><div id=\"sk-container-id-1\" class=\"sk-top-container\"><div class=\"sk-text-repr-fallback\"><pre>KNeighborsRegressor(n_neighbors=3)</pre><b>In a Jupyter environment, please rerun this cell to show the HTML representation or trust the notebook. <br />On GitHub, the HTML representation is unable to render, please try loading this page with nbviewer.org.</b></div><div class=\"sk-container\" hidden><div class=\"sk-item\"><div class=\"sk-estimator sk-toggleable\"><input class=\"sk-toggleable__control sk-hidden--visually\" id=\"sk-estimator-id-1\" type=\"checkbox\" checked><label for=\"sk-estimator-id-1\" class=\"sk-toggleable__label sk-toggleable__label-arrow\">KNeighborsRegressor</label><div class=\"sk-toggleable__content\"><pre>KNeighborsRegressor(n_neighbors=3)</pre></div></div></div></div></div>"
      ],
      "text/plain": [
       "KNeighborsRegressor(n_neighbors=3)"
      ]
     },
     "execution_count": 44,
     "metadata": {},
     "output_type": "execute_result"
    }
   ],
   "source": [
    "model = KNeighborsRegressor(n_neighbors=3)\n",
    "model"
   ]
  },
  {
   "cell_type": "code",
   "execution_count": 45,
   "id": "0387d3b8-1ace-4cbb-be51-61920bd68f7f",
   "metadata": {},
   "outputs": [
    {
     "name": "stdout",
     "output_type": "stream",
     "text": [
      "The model training is completed\n"
     ]
    }
   ],
   "source": [
    "model_train = model.fit(X_train , y_train)\n",
    "print('The model training is completed')"
   ]
  },
  {
   "cell_type": "code",
   "execution_count": 46,
   "id": "dc99eb15-5d87-4b57-aff3-8bddc645a5c9",
   "metadata": {},
   "outputs": [
    {
     "data": {
      "text/plain": [
       "array([46.66666667, 59.33333333, 65.        , ..., 56.66666667,\n",
       "       26.33333333, 49.33      ])"
      ]
     },
     "execution_count": 46,
     "metadata": {},
     "output_type": "execute_result"
    }
   ],
   "source": [
    "from sklearn.metrics import r2_score,mean_absolute_error\n",
    "pred = model_train.predict(X_test)\n",
    "pred"
   ]
  },
  {
   "cell_type": "code",
   "execution_count": 47,
   "id": "1b64728c-4cc7-4723-bfac-425e30564e4a",
   "metadata": {},
   "outputs": [
    {
     "data": {
      "text/plain": [
       "0.9578596731264113"
      ]
     },
     "execution_count": 47,
     "metadata": {},
     "output_type": "execute_result"
    }
   ],
   "source": [
    "model_train.score(X_train , y_train)"
   ]
  },
  {
   "cell_type": "code",
   "execution_count": 48,
   "id": "394eb245-cd18-4b40-9ecf-a202172f7dd6",
   "metadata": {},
   "outputs": [
    {
     "data": {
      "text/plain": [
       "0.9861872544325201"
      ]
     },
     "execution_count": 48,
     "metadata": {},
     "output_type": "execute_result"
    }
   ],
   "source": [
    "r2_score(y_test,pred)"
   ]
  },
  {
   "cell_type": "code",
   "execution_count": 49,
   "id": "e31a7860-83fb-4fb5-87e3-f2a9ad05d0ca",
   "metadata": {},
   "outputs": [
    {
     "data": {
      "text/plain": [
       "0.9861872544325201"
      ]
     },
     "execution_count": 49,
     "metadata": {},
     "output_type": "execute_result"
    }
   ],
   "source": [
    "r2_score(y_test,pred)"
   ]
  },
  {
   "cell_type": "code",
   "execution_count": 59,
   "id": "e218170f-f977-42c4-b28d-8cb90378ea37",
   "metadata": {},
   "outputs": [
    {
     "name": "stdout",
     "output_type": "stream",
     "text": [
      "When K =  1\n",
      "The Model Training in Completed\n",
      "When K =  2\n",
      "The Model Training in Completed\n",
      "When K =  3\n",
      "The Model Training in Completed\n",
      "When K =  4\n",
      "The Model Training in Completed\n",
      "When K =  5\n",
      "The Model Training in Completed\n",
      "When K =  6\n",
      "The Model Training in Completed\n",
      "When K =  7\n",
      "The Model Training in Completed\n",
      "When K =  8\n",
      "The Model Training in Completed\n",
      "When K =  9\n",
      "The Model Training in Completed\n",
      "When K =  10\n",
      "The Model Training in Completed\n",
      "When K =  11\n",
      "The Model Training in Completed\n",
      "When K =  12\n",
      "The Model Training in Completed\n",
      "When K =  13\n",
      "The Model Training in Completed\n",
      "When K =  14\n",
      "The Model Training in Completed\n"
     ]
    }
   ],
   "source": [
    "error = []\n",
    "k = []\n",
    "for i in range (1,15):\n",
    "    print('When K = ',i)\n",
    "    model = KNeighborsRegressor(n_neighbors=i)\n",
    "    model_train = model.fit(X_train ,y_train)\n",
    "    print('The Model Training in Completed')\n",
    "    err = round(1- model_train.score ( X_train , y_train),3)\n",
    "    error.append(err)\n",
    "    k.append(i)"
   ]
  },
  {
   "cell_type": "code",
   "execution_count": 60,
   "id": "3e352842-8321-437a-b842-34f29791e347",
   "metadata": {},
   "outputs": [
    {
     "data": {
      "text/plain": [
       "[0.0,\n",
       " 0.018,\n",
       " 0.042,\n",
       " 0.058,\n",
       " 0.056,\n",
       " 0.077,\n",
       " 0.085,\n",
       " 0.099,\n",
       " 0.113,\n",
       " 0.123,\n",
       " 0.132,\n",
       " 0.142,\n",
       " 0.151,\n",
       " 0.154]"
      ]
     },
     "execution_count": 60,
     "metadata": {},
     "output_type": "execute_result"
    }
   ],
   "source": [
    "error"
   ]
  },
  {
   "cell_type": "code",
   "execution_count": 61,
   "id": "f30aa8cc-2793-4972-80c7-53358fe63d46",
   "metadata": {},
   "outputs": [
    {
     "data": {
      "text/plain": [
       "[1, 2, 3, 4, 5, 6, 7, 8, 9, 10, 11, 12, 13, 14]"
      ]
     },
     "execution_count": 61,
     "metadata": {},
     "output_type": "execute_result"
    }
   ],
   "source": [
    "k"
   ]
  },
  {
   "cell_type": "code",
   "execution_count": 62,
   "id": "5e80e33c-1dbf-4008-a718-ee7f9a6dd29b",
   "metadata": {},
   "outputs": [
    {
     "data": {
      "text/html": [
       "<div>\n",
       "<style scoped>\n",
       "    .dataframe tbody tr th:only-of-type {\n",
       "        vertical-align: middle;\n",
       "    }\n",
       "\n",
       "    .dataframe tbody tr th {\n",
       "        vertical-align: top;\n",
       "    }\n",
       "\n",
       "    .dataframe thead th {\n",
       "        text-align: right;\n",
       "    }\n",
       "</style>\n",
       "<table border=\"1\" class=\"dataframe\">\n",
       "  <thead>\n",
       "    <tr style=\"text-align: right;\">\n",
       "      <th></th>\n",
       "      <th>K</th>\n",
       "      <th>Error</th>\n",
       "    </tr>\n",
       "  </thead>\n",
       "  <tbody>\n",
       "    <tr>\n",
       "      <th>0</th>\n",
       "      <td>1</td>\n",
       "      <td>0.000</td>\n",
       "    </tr>\n",
       "    <tr>\n",
       "      <th>1</th>\n",
       "      <td>2</td>\n",
       "      <td>0.018</td>\n",
       "    </tr>\n",
       "    <tr>\n",
       "      <th>2</th>\n",
       "      <td>3</td>\n",
       "      <td>0.042</td>\n",
       "    </tr>\n",
       "    <tr>\n",
       "      <th>3</th>\n",
       "      <td>4</td>\n",
       "      <td>0.058</td>\n",
       "    </tr>\n",
       "    <tr>\n",
       "      <th>4</th>\n",
       "      <td>5</td>\n",
       "      <td>0.056</td>\n",
       "    </tr>\n",
       "    <tr>\n",
       "      <th>5</th>\n",
       "      <td>6</td>\n",
       "      <td>0.077</td>\n",
       "    </tr>\n",
       "    <tr>\n",
       "      <th>6</th>\n",
       "      <td>7</td>\n",
       "      <td>0.085</td>\n",
       "    </tr>\n",
       "    <tr>\n",
       "      <th>7</th>\n",
       "      <td>8</td>\n",
       "      <td>0.099</td>\n",
       "    </tr>\n",
       "    <tr>\n",
       "      <th>8</th>\n",
       "      <td>9</td>\n",
       "      <td>0.113</td>\n",
       "    </tr>\n",
       "    <tr>\n",
       "      <th>9</th>\n",
       "      <td>10</td>\n",
       "      <td>0.123</td>\n",
       "    </tr>\n",
       "    <tr>\n",
       "      <th>10</th>\n",
       "      <td>11</td>\n",
       "      <td>0.132</td>\n",
       "    </tr>\n",
       "    <tr>\n",
       "      <th>11</th>\n",
       "      <td>12</td>\n",
       "      <td>0.142</td>\n",
       "    </tr>\n",
       "    <tr>\n",
       "      <th>12</th>\n",
       "      <td>13</td>\n",
       "      <td>0.151</td>\n",
       "    </tr>\n",
       "    <tr>\n",
       "      <th>13</th>\n",
       "      <td>14</td>\n",
       "      <td>0.154</td>\n",
       "    </tr>\n",
       "  </tbody>\n",
       "</table>\n",
       "</div>"
      ],
      "text/plain": [
       "     K  Error\n",
       "0    1  0.000\n",
       "1    2  0.018\n",
       "2    3  0.042\n",
       "3    4  0.058\n",
       "4    5  0.056\n",
       "5    6  0.077\n",
       "6    7  0.085\n",
       "7    8  0.099\n",
       "8    9  0.113\n",
       "9   10  0.123\n",
       "10  11  0.132\n",
       "11  12  0.142\n",
       "12  13  0.151\n",
       "13  14  0.154"
      ]
     },
     "execution_count": 62,
     "metadata": {},
     "output_type": "execute_result"
    }
   ],
   "source": [
    "## Creating the datafram -\n",
    "df2 = pd.DataFrame({'K': k , 'Error': error})\n",
    "df2"
   ]
  },
  {
   "cell_type": "code",
   "execution_count": 63,
   "id": "4f295996-33e5-40e6-9c36-9f5b9ce3bc6b",
   "metadata": {},
   "outputs": [
    {
     "name": "stderr",
     "output_type": "stream",
     "text": [
      "C:\\Users\\DELL\\anaconda3\\Lib\\site-packages\\seaborn\\_oldcore.py:1119: FutureWarning: use_inf_as_na option is deprecated and will be removed in a future version. Convert inf values to NaN before operating instead.\n",
      "  with pd.option_context('mode.use_inf_as_na', True):\n",
      "C:\\Users\\DELL\\anaconda3\\Lib\\site-packages\\seaborn\\_oldcore.py:1119: FutureWarning: use_inf_as_na option is deprecated and will be removed in a future version. Convert inf values to NaN before operating instead.\n",
      "  with pd.option_context('mode.use_inf_as_na', True):\n"
     ]
    },
    {
     "data": {
      "text/plain": [
       "<Axes: xlabel='K', ylabel='Error'>"
      ]
     },
     "execution_count": 63,
     "metadata": {},
     "output_type": "execute_result"
    },
    {
     "data": {
      "image/png": "[encoded data removed]",
      "text/plain": [
       "<Figure size 640x480 with 1 Axes>"
      ]
     },
     "metadata": {},
     "output_type": "display_data"
    }
   ],
   "source": [
    "sns.lineplot(x = 'K' , y = 'Error' ,data =df2)"
   ]
  },
  {
   "cell_type": "code",
   "execution_count": 55,
   "id": "240b76c5-4d21-4e9a-bc30-d6e2619a107e",
   "metadata": {},
   "outputs": [],
   "source": [
    "import joblib"
   ]
  },
  {
   "cell_type": "code",
   "execution_count": 64,
   "id": "7d6b26b5-bd65-4242-801a-1d193ee488f1",
   "metadata": {},
   "outputs": [
    {
     "data": {
      "text/plain": [
       "['KNN_RegV2.sav']"
      ]
     },
     "execution_count": 64,
     "metadata": {},
     "output_type": "execute_result"
    }
   ],
   "source": [
    "joblib.dump(model,'KNN_RegV2.sav')"
   ]
  },
  {
   "cell_type": "code",
   "execution_count": null,
   "id": "fc1784ca-48cb-4d4e-a0ab-a9a45cd644f1",
   "metadata": {},
   "outputs": [],
   "source": []
  }
 ],
 "metadata": {
  "kernelspec": {
   "display_name": "Python 3 (ipykernel)",
   "language": "python",
   "name": "python3"
  },
  "language_info": {
   "codemirror_mode": {
    "name": "ipython",
    "version": 3
   },
   "file_extension": ".py",
   "mimetype": "text/x-python",
   "name": "python",
   "nbconvert_exporter": "python",
   "pygments_lexer": "ipython3",
   "version": "3.11.7"
  }
 },
 "nbformat": 4,
 "nbformat_minor": 5
}
